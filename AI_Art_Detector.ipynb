{
  "cells": [
    {
      "cell_type": "code",
      "execution_count": null,
      "metadata": {
        "colab": {
          "background_save": true
        },
        "id": "2NTOTzpwjBKk"
      },
      "outputs": [],
      "source": [
        "# Import libraries\n",
        "import os\n",
        "import torch\n",
        "import torch.nn as nn\n",
        "import torch.nn.functional as F\n",
        "import torchvision\n",
        "import torchvision.transforms as transforms\n",
        "from torch.utils.data import DataLoader, random_split\n",
        "import torch.optim as optim\n",
        "from torch.autograd import Variable\n",
        "import pathlib\n",
        "import matplotlib.pyplot as plt\n",
        "import seaborn as sns\n",
        "from sklearn.metrics import precision_score, recall_score, f1_score, confusion_matrix, ConfusionMatrixDisplay\n",
        "import numpy as np\n",
        "from PIL import ImageFile\n",
        "from PIL import Image\n",
        "\n",
        "#import tqdm # this is for displaying a progress bar\n",
        "\n",
        "# Device Configuration\n",
        "if torch.cuda.is_available():\n",
        "    device = torch.device('cuda')       #Use this for Windows, Google Colab\n",
        "elif torch.backends.mps.is_available():\n",
        "    device = torch.device('mps')        #Use this for MacOS\n",
        "else:\n",
        "    device = torch.device('cpu')"
      ]
    },
    {
      "cell_type": "markdown",
      "metadata": {
        "id": "UeP819wWxcsy"
      },
      "source": [
        "[View our dataset on Google Drive here](https://drive.google.com/drive/folders/1F1LxmTDe8oy9KEKCgCGSUMAZuHX4ebRJ?usp=sharing)"
      ]
    },
    {
      "cell_type": "code",
      "execution_count": null,
      "metadata": {
        "colab": {
          "background_save": true
        },
        "id": "i8i8spMROK8L",
        "outputId": "1350198d-2db4-440f-90c7-8ffff46281eb"
      },
      "outputs": [],
      "source": [
        "# from google.colab import drive\n",
        "# drive.mount('/content/drive')"
      ]
    },
    {
      "cell_type": "code",
      "execution_count": null,
      "metadata": {},
      "outputs": [
        {
          "ename": "FileNotFoundError",
          "evalue": "[Errno 2] No such file or directory: '../SENG_474_Dataset_Filtered'",
          "output_type": "error",
          "traceback": [
            "\u001b[31m---------------------------------------------------------------------------\u001b[39m",
            "\u001b[31mFileNotFoundError\u001b[39m                         Traceback (most recent call last)",
            "\u001b[36mCell\u001b[39m\u001b[36m \u001b[39m\u001b[32mIn[3]\u001b[39m\u001b[32m, line 28\u001b[39m\n\u001b[32m     21\u001b[39m ImageFile.LOAD_TRUNCATED_IMAGES = \u001b[38;5;28;01mTrue\u001b[39;00m\n\u001b[32m     23\u001b[39m transform = transforms.Compose([\n\u001b[32m     24\u001b[39m     transforms.Resize((\u001b[32m64\u001b[39m, \u001b[32m64\u001b[39m)),\n\u001b[32m     25\u001b[39m     transforms.ToTensor()\n\u001b[32m     26\u001b[39m ])\n\u001b[32m---> \u001b[39m\u001b[32m28\u001b[39m dataset = \u001b[43mdatasets\u001b[49m\u001b[43m.\u001b[49m\u001b[43mImageFolder\u001b[49m\u001b[43m(\u001b[49m\u001b[33;43m'\u001b[39;49m\u001b[33;43m../SENG_474_Dataset_Filtered\u001b[39;49m\u001b[33;43m'\u001b[39;49m\u001b[43m,\u001b[49m\u001b[43m \u001b[49m\u001b[43mtransform\u001b[49m\u001b[43m=\u001b[49m\u001b[43mtransform\u001b[49m\u001b[43m)\u001b[49m\n\u001b[32m     29\u001b[39m loader = DataLoader(dataset, batch_size=\u001b[32m1\u001b[39m, num_workers=\u001b[32m2\u001b[39m)\n\u001b[32m     30\u001b[39m counter = \u001b[32m0\u001b[39m\n",
            "\u001b[36mFile \u001b[39m\u001b[32m/lustre06/project/6068024/klip/AI-Art-Detector/venv/lib/python3.11/site-packages/torchvision/datasets/folder.py:328\u001b[39m, in \u001b[36mImageFolder.__init__\u001b[39m\u001b[34m(self, root, transform, target_transform, loader, is_valid_file, allow_empty)\u001b[39m\n\u001b[32m    319\u001b[39m \u001b[38;5;28;01mdef\u001b[39;00m\u001b[38;5;250m \u001b[39m\u001b[34m__init__\u001b[39m(\n\u001b[32m    320\u001b[39m     \u001b[38;5;28mself\u001b[39m,\n\u001b[32m    321\u001b[39m     root: Union[\u001b[38;5;28mstr\u001b[39m, Path],\n\u001b[32m   (...)\u001b[39m\u001b[32m    326\u001b[39m     allow_empty: \u001b[38;5;28mbool\u001b[39m = \u001b[38;5;28;01mFalse\u001b[39;00m,\n\u001b[32m    327\u001b[39m ):\n\u001b[32m--> \u001b[39m\u001b[32m328\u001b[39m     \u001b[38;5;28;43msuper\u001b[39;49m\u001b[43m(\u001b[49m\u001b[43m)\u001b[49m\u001b[43m.\u001b[49m\u001b[34;43m__init__\u001b[39;49m\u001b[43m(\u001b[49m\n\u001b[32m    329\u001b[39m \u001b[43m        \u001b[49m\u001b[43mroot\u001b[49m\u001b[43m,\u001b[49m\n\u001b[32m    330\u001b[39m \u001b[43m        \u001b[49m\u001b[43mloader\u001b[49m\u001b[43m,\u001b[49m\n\u001b[32m    331\u001b[39m \u001b[43m        \u001b[49m\u001b[43mIMG_EXTENSIONS\u001b[49m\u001b[43m \u001b[49m\u001b[38;5;28;43;01mif\u001b[39;49;00m\u001b[43m \u001b[49m\u001b[43mis_valid_file\u001b[49m\u001b[43m \u001b[49m\u001b[38;5;129;43;01mis\u001b[39;49;00m\u001b[43m \u001b[49m\u001b[38;5;28;43;01mNone\u001b[39;49;00m\u001b[43m \u001b[49m\u001b[38;5;28;43;01melse\u001b[39;49;00m\u001b[43m \u001b[49m\u001b[38;5;28;43;01mNone\u001b[39;49;00m\u001b[43m,\u001b[49m\n\u001b[32m    332\u001b[39m \u001b[43m        \u001b[49m\u001b[43mtransform\u001b[49m\u001b[43m=\u001b[49m\u001b[43mtransform\u001b[49m\u001b[43m,\u001b[49m\n\u001b[32m    333\u001b[39m \u001b[43m        \u001b[49m\u001b[43mtarget_transform\u001b[49m\u001b[43m=\u001b[49m\u001b[43mtarget_transform\u001b[49m\u001b[43m,\u001b[49m\n\u001b[32m    334\u001b[39m \u001b[43m        \u001b[49m\u001b[43mis_valid_file\u001b[49m\u001b[43m=\u001b[49m\u001b[43mis_valid_file\u001b[49m\u001b[43m,\u001b[49m\n\u001b[32m    335\u001b[39m \u001b[43m        \u001b[49m\u001b[43mallow_empty\u001b[49m\u001b[43m=\u001b[49m\u001b[43mallow_empty\u001b[49m\u001b[43m,\u001b[49m\n\u001b[32m    336\u001b[39m \u001b[43m    \u001b[49m\u001b[43m)\u001b[49m\n\u001b[32m    337\u001b[39m     \u001b[38;5;28mself\u001b[39m.imgs = \u001b[38;5;28mself\u001b[39m.samples\n",
            "\u001b[36mFile \u001b[39m\u001b[32m/lustre06/project/6068024/klip/AI-Art-Detector/venv/lib/python3.11/site-packages/torchvision/datasets/folder.py:149\u001b[39m, in \u001b[36mDatasetFolder.__init__\u001b[39m\u001b[34m(self, root, loader, extensions, transform, target_transform, is_valid_file, allow_empty)\u001b[39m\n\u001b[32m    138\u001b[39m \u001b[38;5;28;01mdef\u001b[39;00m\u001b[38;5;250m \u001b[39m\u001b[34m__init__\u001b[39m(\n\u001b[32m    139\u001b[39m     \u001b[38;5;28mself\u001b[39m,\n\u001b[32m    140\u001b[39m     root: Union[\u001b[38;5;28mstr\u001b[39m, Path],\n\u001b[32m   (...)\u001b[39m\u001b[32m    146\u001b[39m     allow_empty: \u001b[38;5;28mbool\u001b[39m = \u001b[38;5;28;01mFalse\u001b[39;00m,\n\u001b[32m    147\u001b[39m ) -> \u001b[38;5;28;01mNone\u001b[39;00m:\n\u001b[32m    148\u001b[39m     \u001b[38;5;28msuper\u001b[39m().\u001b[34m__init__\u001b[39m(root, transform=transform, target_transform=target_transform)\n\u001b[32m--> \u001b[39m\u001b[32m149\u001b[39m     classes, class_to_idx = \u001b[38;5;28;43mself\u001b[39;49m\u001b[43m.\u001b[49m\u001b[43mfind_classes\u001b[49m\u001b[43m(\u001b[49m\u001b[38;5;28;43mself\u001b[39;49m\u001b[43m.\u001b[49m\u001b[43mroot\u001b[49m\u001b[43m)\u001b[49m\n\u001b[32m    150\u001b[39m     samples = \u001b[38;5;28mself\u001b[39m.make_dataset(\n\u001b[32m    151\u001b[39m         \u001b[38;5;28mself\u001b[39m.root,\n\u001b[32m    152\u001b[39m         class_to_idx=class_to_idx,\n\u001b[32m   (...)\u001b[39m\u001b[32m    155\u001b[39m         allow_empty=allow_empty,\n\u001b[32m    156\u001b[39m     )\n\u001b[32m    158\u001b[39m     \u001b[38;5;28mself\u001b[39m.loader = loader\n",
            "\u001b[36mFile \u001b[39m\u001b[32m/lustre06/project/6068024/klip/AI-Art-Detector/venv/lib/python3.11/site-packages/torchvision/datasets/folder.py:234\u001b[39m, in \u001b[36mDatasetFolder.find_classes\u001b[39m\u001b[34m(self, directory)\u001b[39m\n\u001b[32m    207\u001b[39m \u001b[38;5;28;01mdef\u001b[39;00m\u001b[38;5;250m \u001b[39m\u001b[34mfind_classes\u001b[39m(\u001b[38;5;28mself\u001b[39m, directory: Union[\u001b[38;5;28mstr\u001b[39m, Path]) -> Tuple[List[\u001b[38;5;28mstr\u001b[39m], Dict[\u001b[38;5;28mstr\u001b[39m, \u001b[38;5;28mint\u001b[39m]]:\n\u001b[32m    208\u001b[39m \u001b[38;5;250m    \u001b[39m\u001b[33;03m\"\"\"Find the class folders in a dataset structured as follows::\u001b[39;00m\n\u001b[32m    209\u001b[39m \n\u001b[32m    210\u001b[39m \u001b[33;03m        directory/\u001b[39;00m\n\u001b[32m   (...)\u001b[39m\u001b[32m    232\u001b[39m \u001b[33;03m        (Tuple[List[str], Dict[str, int]]): List of all classes and dictionary mapping each class to an index.\u001b[39;00m\n\u001b[32m    233\u001b[39m \u001b[33;03m    \"\"\"\u001b[39;00m\n\u001b[32m--> \u001b[39m\u001b[32m234\u001b[39m     \u001b[38;5;28;01mreturn\u001b[39;00m \u001b[43mfind_classes\u001b[49m\u001b[43m(\u001b[49m\u001b[43mdirectory\u001b[49m\u001b[43m)\u001b[49m\n",
            "\u001b[36mFile \u001b[39m\u001b[32m/lustre06/project/6068024/klip/AI-Art-Detector/venv/lib/python3.11/site-packages/torchvision/datasets/folder.py:41\u001b[39m, in \u001b[36mfind_classes\u001b[39m\u001b[34m(directory)\u001b[39m\n\u001b[32m     36\u001b[39m \u001b[38;5;28;01mdef\u001b[39;00m\u001b[38;5;250m \u001b[39m\u001b[34mfind_classes\u001b[39m(directory: Union[\u001b[38;5;28mstr\u001b[39m, Path]) -> Tuple[List[\u001b[38;5;28mstr\u001b[39m], Dict[\u001b[38;5;28mstr\u001b[39m, \u001b[38;5;28mint\u001b[39m]]:\n\u001b[32m     37\u001b[39m \u001b[38;5;250m    \u001b[39m\u001b[33;03m\"\"\"Finds the class folders in a dataset.\u001b[39;00m\n\u001b[32m     38\u001b[39m \n\u001b[32m     39\u001b[39m \u001b[33;03m    See :class:`DatasetFolder` for details.\u001b[39;00m\n\u001b[32m     40\u001b[39m \u001b[33;03m    \"\"\"\u001b[39;00m\n\u001b[32m---> \u001b[39m\u001b[32m41\u001b[39m     classes = \u001b[38;5;28msorted\u001b[39m(entry.name \u001b[38;5;28;01mfor\u001b[39;00m entry \u001b[38;5;129;01min\u001b[39;00m \u001b[43mos\u001b[49m\u001b[43m.\u001b[49m\u001b[43mscandir\u001b[49m\u001b[43m(\u001b[49m\u001b[43mdirectory\u001b[49m\u001b[43m)\u001b[49m \u001b[38;5;28;01mif\u001b[39;00m entry.is_dir())\n\u001b[32m     42\u001b[39m     \u001b[38;5;28;01mif\u001b[39;00m \u001b[38;5;129;01mnot\u001b[39;00m classes:\n\u001b[32m     43\u001b[39m         \u001b[38;5;28;01mraise\u001b[39;00m \u001b[38;5;167;01mFileNotFoundError\u001b[39;00m(\u001b[33mf\u001b[39m\u001b[33m\"\u001b[39m\u001b[33mCouldn\u001b[39m\u001b[33m'\u001b[39m\u001b[33mt find any class folder in \u001b[39m\u001b[38;5;132;01m{\u001b[39;00mdirectory\u001b[38;5;132;01m}\u001b[39;00m\u001b[33m.\u001b[39m\u001b[33m\"\u001b[39m)\n",
            "\u001b[31mFileNotFoundError\u001b[39m: [Errno 2] No such file or directory: '../SENG_474_Dataset_Filtered'"
          ]
        }
      ],
      "source": [
        "# attemp to find corrupted images\n",
        "\n",
        "data_path = 'SENG_474_Dataset_Filtered/SENG_474_Dataset_Filtered'\n",
        "\n",
        "# Walk through all files in the folder\n",
        "for root, _, files in os.walk(data_path):\n",
        "    for fname in files:\n",
        "        file_path = os.path.join(root, fname)\n",
        "\n",
        "        try:\n",
        "            with Image.open(file_path) as img:\n",
        "                img.verify()  # Verify the file is a valid image\n",
        "        except Exception as e:\n",
        "            print(f\"[ERROR] Failed to load image: {file_path}\")\n",
        "            print(f\"        {type(e).__name__}: {e}\")\n",
        "\n",
        "\n",
        "from torch.utils.data import DataLoader\n",
        "from torchvision import datasets, transforms\n",
        "\n",
        "ImageFile.LOAD_TRUNCATED_IMAGES = True\n",
        "\n",
        "transform = transforms.Compose([\n",
        "    transforms.Resize((64, 64)),\n",
        "    transforms.ToTensor()\n",
        "])\n",
        "\n",
        "dataset = datasets.ImageFolder('SENG_474_Dataset_Filtered/SENG_474_Dataset_Filtered', transform=transform)\n",
        "loader = DataLoader(dataset, batch_size=1, num_workers=2)\n",
        "counter = 0\n",
        "corrupted_images = []\n",
        "for i, (images, labels) in enumerate(loader):\n",
        "    image_path, label = dataset.samples[i]\n",
        "    class_name = dataset.classes[label]\n",
        "    try:\n",
        "        print(f\"[{i}] Loaded image: {image_path} | Label: {label} ({class_name})\")\n",
        "    except OSError:\n",
        "        counter += 1\n",
        "        corrupted_images.append(image_path)"
      ]
    },
    {
      "cell_type": "markdown",
      "metadata": {
        "id": "cVMxUAZMnkzs"
      },
      "source": [
        "#Split data into train set, test set, validation set and their respective directories"
      ]
    },
    {
      "cell_type": "code",
      "execution_count": null,
      "metadata": {
        "colab": {
          "background_save": true
        },
        "id": "ApTstE2YjG7B",
        "outputId": "cd40d618-1b87-4a30-b800-ad2c1201e6b4"
      },
      "outputs": [
        {
          "name": "stdout",
          "output_type": "stream",
          "text": [
            "{'0-Human': 0, '1-AI': 1}\n",
            "Total images: 20000\n",
            "Training images: 12000\n",
            "Validation images: 4000\n",
            "Testing images: 4000\n"
          ]
        }
      ],
      "source": [
        "#Create Dataloaders and Preprocess Data\n",
        "#Based off of code from https://github.com/gaurav67890/Pytorch_Tutorials/blob/master/cnn-scratch-training.ipynb\n",
        "\n",
        "transformer=transforms.Compose([\n",
        "    transforms.Resize((64,64)),       # TODO: decide what to modify this to\n",
        "    transforms.RandomHorizontalFlip(),\n",
        "    transforms.ToTensor(),              # 0-255 to 0-1, numpy to tensors\n",
        "    transforms.Normalize([0.5,0.5,0.5], # 0-1 to [-1,1] , formula (x-mean)/std\n",
        "                        [0.5,0.5,0.5])\n",
        "])\n",
        "\n",
        "\n",
        "#Path variables to data directory\n",
        "#data_path='/content/drive/MyDrive/SENG_474_Dataset_10k'       #Path on Google Drive\n",
        "data_path='SENG_474_Dataset_Filtered/SENG_474_Dataset_Filtered'                            #Local Path\n",
        "\n",
        "# seed to keep random split the same each time\n",
        "seed = 42\n",
        "generator = torch.Generator().manual_seed(seed)\n",
        "\n",
        "full_dataset = torchvision.datasets.ImageFolder(data_path, transform=transformer)\n",
        "\n",
        "# 3-way split split\n",
        "train_size = int(0.6 * len(full_dataset))\n",
        "valid_size = int(0.2 * len(full_dataset))\n",
        "test_size = int(0.2 * len(full_dataset))\n",
        "\n",
        "#split the data\n",
        "train_dataset, valid_dataset, test_dataset = random_split(full_dataset, [train_size, valid_size, test_size], generator=generator)\n",
        "\n",
        "\n",
        "train_loader = DataLoader(train_dataset,\n",
        "                          batch_size=64,\n",
        "                          shuffle=True,\n",
        "                          num_workers=4\n",
        "                          )\n",
        "\n",
        "valid_loader = DataLoader(valid_dataset,\n",
        "                          batch_size=64,\n",
        "                          shuffle=True,\n",
        "                          num_workers=4\n",
        "                          )\n",
        "\n",
        "test_loader = DataLoader(test_dataset,\n",
        "                         batch_size=64,\n",
        "                         shuffle=True,   # - falsed out shuffle for now, to keep evaluation deterministic? - kedan\n",
        "                         num_workers=4\n",
        "                         )\n",
        "\n",
        "#print to make sure classes were assigned correct label\n",
        "print(full_dataset.class_to_idx)\n",
        "\n",
        "#print number of images\n",
        "print(f\"Total images: {len(full_dataset)}\")\n",
        "print(f\"Training images: {len(train_dataset)}\")\n",
        "print(f\"Validation images: {len(valid_dataset)}\")\n",
        "print(f\"Testing images: {len(test_dataset)}\")\n"
      ]
    },
    {
      "cell_type": "code",
      "execution_count": null,
      "metadata": {
        "id": "yXSVLGTLG5dM"
      },
      "outputs": [],
      "source": [
        "#PyTorch Tutorial 14 - Convolutional Neural Network (CNN) by Patrick Loeber on YouTube\n",
        "# https://www.youtube.com/watch?v=pDdP0TFzsoQ\n",
        "\n",
        "def showImages(img):\n",
        "    #Show random images from the training set\n",
        "    img = img / 2 + 0.5 #unnormalize\n",
        "    npimg = img.numpy()\n",
        "    plt.imshow(np.transpose(npimg, (1,2,0)))\n",
        "    plt.show()\n",
        "\n",
        "\n",
        "dataiter = iter(train_loader)\n",
        "images, labels = next(dataiter)\n",
        "showImages(torchvision.utils.make_grid(images))\n",
        "\n",
        "conv1 = nn.Conv2d(3, 6, 5)\n",
        "pool = nn.MaxPool2d(2, 2)\n",
        "conv2 = nn.Conv2d(6, 16, 5)\n",
        "print(images.shape)\n",
        "x = conv1(images)\n",
        "x = pool(x)\n",
        "x = conv2(x)"
      ]
    },
    {
      "cell_type": "code",
      "execution_count": null,
      "metadata": {
        "colab": {
          "background_save": true
        },
        "id": "OU0g9z4jjIfy"
      },
      "outputs": [],
      "source": [
        "# Define Convolutional Neural Network model\n",
        "\n",
        "class CNN(nn.Module):\n",
        "    def __init__(self):\n",
        "        super(CNN, self).__init__()\n",
        "        self.conv1 = nn.Conv2d(3, 6, 3, padding=1)       # output: [6, 64, 64]\n",
        "        self.pool = nn.MaxPool2d(2, 2)\n",
        "        self.bnorm_conv1 = nn.BatchNorm2d(num_features=6)\n",
        "        self.conv2 = nn.Conv2d(6, 16, 3, padding=1)      # output: [16, 32, 32] after pool\n",
        "        self.bnorm_conv2 = nn.BatchNorm2d(num_features=16)\n",
        "        self.do1 = nn.Dropout(0.4)  # 40% Probability\n",
        "        self.fc1 = nn.Linear(16*16*16, 120)\n",
        "        self.bnorm_fc1 = nn.BatchNorm1d(120)\n",
        "        self.do2 = nn.Dropout(0.4)  # 40% Probability\n",
        "        self.fc2 = nn.Linear(120, 18)\n",
        "        self.bnorm_fc2 = nn.BatchNorm1d(18)\n",
        "        self.do3 = nn.Dropout(0.1)  # 10% Probability\n",
        "        self.fc3 = nn.Linear(18, 2)           # TODO: we can play with num of fc and nodes if we encounter under/overfitting\n",
        "\n",
        "    def forward(self, x):\n",
        "        x = self.pool(F.relu(self.bnorm_conv1(self.conv1(x))))  # using relu for activation\n",
        "        # print(\"After conv1 + pool:\", x.shape)\n",
        "        x = self.pool(F.relu(self.bnorm_conv2(self.conv2(x))))\n",
        "        # print(\"After conv2 + pool:\", x.shape)\n",
        "\n",
        "        # flatten the tensor before passing it to fc (torch.flatten is equivalent to x.view(-1, 16*16*16) but better)\n",
        "        x = torch.flatten(x, 1) \n",
        "        \n",
        "        # print(\"After flattening:\", x.shape)\n",
        "        x = self.do1(x) # can experiment with dropout by putting it before or after relu\n",
        "        x = F.relu(self.bnorm_fc1(self.fc1(x)))\n",
        "        \n",
        "        x = self.do2(x)\n",
        "        x = F.relu(self.bnorm_fc2(self.fc2(x)))\n",
        "        \n",
        "        x = self.do3(x)\n",
        "        x = self.fc3(x)\n",
        "        return x"
      ]
    },
    {
      "cell_type": "code",
      "execution_count": null,
      "metadata": {
        "colab": {
          "background_save": true,
          "base_uri": "https://localhost:8080/"
        },
        "id": "Wt-OkTypjOHx",
        "outputId": "0469817c-e8da-4c6d-f842-80aa7bba82c4"
      },
      "outputs": [
        {
          "name": "stdout",
          "output_type": "stream",
          "text": [
            "=== Epoch 1: Current LR: 0.001 ===\n"
          ]
        },
        {
          "name": "stderr",
          "output_type": "stream",
          "text": [
            "/Users/sonya/Desktop/CompSci/SENG474/Project/AI_detector/lib/python3.13/site-packages/PIL/Image.py:1043: UserWarning: Palette images with Transparency expressed in bytes should be converted to RGBA images\n",
            "  warnings.warn(\n",
            "/Users/sonya/Desktop/CompSci/SENG474/Project/AI_detector/lib/python3.13/site-packages/PIL/Image.py:1043: UserWarning: Palette images with Transparency expressed in bytes should be converted to RGBA images\n",
            "  warnings.warn(\n",
            "/Users/sonya/Desktop/CompSci/SENG474/Project/AI_detector/lib/python3.13/site-packages/PIL/Image.py:1043: UserWarning: Palette images with Transparency expressed in bytes should be converted to RGBA images\n",
            "  warnings.warn(\n",
            "/Users/sonya/Desktop/CompSci/SENG474/Project/AI_detector/lib/python3.13/site-packages/PIL/Image.py:1043: UserWarning: Palette images with Transparency expressed in bytes should be converted to RGBA images\n",
            "  warnings.warn(\n"
          ]
        },
        {
          "name": "stdout",
          "output_type": "stream",
          "text": [
            "Epoch [1/8], Step [50/188, Train_Loss: 0.6810]\n",
            "Epoch [1/8], Step [100/188, Train_Loss: 0.5046]\n",
            "Epoch [1/8], Step [150/188, Train_Loss: 0.6476]\n"
          ]
        },
        {
          "name": "stderr",
          "output_type": "stream",
          "text": [
            "/Users/sonya/Desktop/CompSci/SENG474/Project/AI_detector/lib/python3.13/site-packages/PIL/Image.py:1043: UserWarning: Palette images with Transparency expressed in bytes should be converted to RGBA images\n",
            "  warnings.warn(\n",
            "/Users/sonya/Desktop/CompSci/SENG474/Project/AI_detector/lib/python3.13/site-packages/PIL/Image.py:1043: UserWarning: Palette images with Transparency expressed in bytes should be converted to RGBA images\n",
            "  warnings.warn(\n",
            "/Users/sonya/Desktop/CompSci/SENG474/Project/AI_detector/lib/python3.13/site-packages/PIL/Image.py:1043: UserWarning: Palette images with Transparency expressed in bytes should be converted to RGBA images\n",
            "  warnings.warn(\n",
            "/Users/sonya/Desktop/CompSci/SENG474/Project/AI_detector/lib/python3.13/site-packages/PIL/Image.py:1043: UserWarning: Palette images with Transparency expressed in bytes should be converted to RGBA images\n",
            "  warnings.warn(\n"
          ]
        },
        {
          "name": "stdout",
          "output_type": "stream",
          "text": [
            "Epoch [1/8], Step [51/63, Valid_Loss: 0.6082]\n",
            "=== Epoch 2: Current LR: 0.001 ===\n"
          ]
        },
        {
          "name": "stderr",
          "output_type": "stream",
          "text": [
            "/Users/sonya/Desktop/CompSci/SENG474/Project/AI_detector/lib/python3.13/site-packages/PIL/Image.py:1043: UserWarning: Palette images with Transparency expressed in bytes should be converted to RGBA images\n",
            "  warnings.warn(\n",
            "/Users/sonya/Desktop/CompSci/SENG474/Project/AI_detector/lib/python3.13/site-packages/PIL/Image.py:1043: UserWarning: Palette images with Transparency expressed in bytes should be converted to RGBA images\n",
            "  warnings.warn(\n",
            "/Users/sonya/Desktop/CompSci/SENG474/Project/AI_detector/lib/python3.13/site-packages/PIL/Image.py:1043: UserWarning: Palette images with Transparency expressed in bytes should be converted to RGBA images\n",
            "  warnings.warn(\n",
            "/Users/sonya/Desktop/CompSci/SENG474/Project/AI_detector/lib/python3.13/site-packages/PIL/Image.py:1043: UserWarning: Palette images with Transparency expressed in bytes should be converted to RGBA images\n",
            "  warnings.warn(\n"
          ]
        },
        {
          "name": "stdout",
          "output_type": "stream",
          "text": [
            "Epoch [2/8], Step [50/188, Train_Loss: 0.5907]\n",
            "Epoch [2/8], Step [100/188, Train_Loss: 0.5334]\n",
            "Epoch [2/8], Step [150/188, Train_Loss: 0.4332]\n"
          ]
        },
        {
          "name": "stderr",
          "output_type": "stream",
          "text": [
            "/Users/sonya/Desktop/CompSci/SENG474/Project/AI_detector/lib/python3.13/site-packages/PIL/Image.py:1043: UserWarning: Palette images with Transparency expressed in bytes should be converted to RGBA images\n",
            "  warnings.warn(\n",
            "/Users/sonya/Desktop/CompSci/SENG474/Project/AI_detector/lib/python3.13/site-packages/PIL/Image.py:1043: UserWarning: Palette images with Transparency expressed in bytes should be converted to RGBA images\n",
            "  warnings.warn(\n",
            "/Users/sonya/Desktop/CompSci/SENG474/Project/AI_detector/lib/python3.13/site-packages/PIL/Image.py:1043: UserWarning: Palette images with Transparency expressed in bytes should be converted to RGBA images\n",
            "  warnings.warn(\n"
          ]
        },
        {
          "name": "stdout",
          "output_type": "stream",
          "text": [
            "Epoch [2/8], Step [51/63, Valid_Loss: 0.4814]\n",
            "=== Epoch 3: Current LR: 0.001 ===\n"
          ]
        },
        {
          "name": "stderr",
          "output_type": "stream",
          "text": [
            "/Users/sonya/Desktop/CompSci/SENG474/Project/AI_detector/lib/python3.13/site-packages/PIL/Image.py:1043: UserWarning: Palette images with Transparency expressed in bytes should be converted to RGBA images\n",
            "  warnings.warn(\n",
            "/Users/sonya/Desktop/CompSci/SENG474/Project/AI_detector/lib/python3.13/site-packages/PIL/Image.py:1043: UserWarning: Palette images with Transparency expressed in bytes should be converted to RGBA images\n",
            "  warnings.warn(\n",
            "/Users/sonya/Desktop/CompSci/SENG474/Project/AI_detector/lib/python3.13/site-packages/PIL/Image.py:1043: UserWarning: Palette images with Transparency expressed in bytes should be converted to RGBA images\n",
            "  warnings.warn(\n"
          ]
        },
        {
          "name": "stdout",
          "output_type": "stream",
          "text": [
            "Epoch [3/8], Step [50/188, Train_Loss: 0.5646]\n"
          ]
        },
        {
          "name": "stderr",
          "output_type": "stream",
          "text": [
            "/Users/sonya/Desktop/CompSci/SENG474/Project/AI_detector/lib/python3.13/site-packages/PIL/Image.py:1043: UserWarning: Palette images with Transparency expressed in bytes should be converted to RGBA images\n",
            "  warnings.warn(\n"
          ]
        },
        {
          "name": "stdout",
          "output_type": "stream",
          "text": [
            "Epoch [3/8], Step [100/188, Train_Loss: 0.5647]\n",
            "Epoch [3/8], Step [150/188, Train_Loss: 0.5428]\n"
          ]
        },
        {
          "name": "stderr",
          "output_type": "stream",
          "text": [
            "/Users/sonya/Desktop/CompSci/SENG474/Project/AI_detector/lib/python3.13/site-packages/PIL/Image.py:1043: UserWarning: Palette images with Transparency expressed in bytes should be converted to RGBA images\n",
            "  warnings.warn(\n",
            "/Users/sonya/Desktop/CompSci/SENG474/Project/AI_detector/lib/python3.13/site-packages/PIL/Image.py:1043: UserWarning: Palette images with Transparency expressed in bytes should be converted to RGBA images\n",
            "  warnings.warn(\n",
            "/Users/sonya/Desktop/CompSci/SENG474/Project/AI_detector/lib/python3.13/site-packages/PIL/Image.py:1043: UserWarning: Palette images with Transparency expressed in bytes should be converted to RGBA images\n",
            "  warnings.warn(\n"
          ]
        },
        {
          "name": "stdout",
          "output_type": "stream",
          "text": [
            "Epoch [3/8], Step [51/63, Valid_Loss: 0.4201]\n",
            "=== Epoch 4: Current LR: 0.001 ===\n"
          ]
        },
        {
          "name": "stderr",
          "output_type": "stream",
          "text": [
            "/Users/sonya/Desktop/CompSci/SENG474/Project/AI_detector/lib/python3.13/site-packages/PIL/Image.py:1043: UserWarning: Palette images with Transparency expressed in bytes should be converted to RGBA images\n",
            "  warnings.warn(\n",
            "/Users/sonya/Desktop/CompSci/SENG474/Project/AI_detector/lib/python3.13/site-packages/PIL/Image.py:1043: UserWarning: Palette images with Transparency expressed in bytes should be converted to RGBA images\n",
            "  warnings.warn(\n",
            "/Users/sonya/Desktop/CompSci/SENG474/Project/AI_detector/lib/python3.13/site-packages/PIL/Image.py:1043: UserWarning: Palette images with Transparency expressed in bytes should be converted to RGBA images\n",
            "  warnings.warn(\n"
          ]
        },
        {
          "name": "stdout",
          "output_type": "stream",
          "text": [
            "Epoch [4/8], Step [50/188, Train_Loss: 0.4671]\n"
          ]
        },
        {
          "name": "stderr",
          "output_type": "stream",
          "text": [
            "/Users/sonya/Desktop/CompSci/SENG474/Project/AI_detector/lib/python3.13/site-packages/PIL/Image.py:1043: UserWarning: Palette images with Transparency expressed in bytes should be converted to RGBA images\n",
            "  warnings.warn(\n"
          ]
        },
        {
          "name": "stdout",
          "output_type": "stream",
          "text": [
            "Epoch [4/8], Step [100/188, Train_Loss: 0.4837]\n",
            "Epoch [4/8], Step [150/188, Train_Loss: 0.6041]\n"
          ]
        },
        {
          "name": "stderr",
          "output_type": "stream",
          "text": [
            "/Users/sonya/Desktop/CompSci/SENG474/Project/AI_detector/lib/python3.13/site-packages/PIL/Image.py:1043: UserWarning: Palette images with Transparency expressed in bytes should be converted to RGBA images\n",
            "  warnings.warn(\n",
            "/Users/sonya/Desktop/CompSci/SENG474/Project/AI_detector/lib/python3.13/site-packages/PIL/Image.py:1043: UserWarning: Palette images with Transparency expressed in bytes should be converted to RGBA images\n",
            "  warnings.warn(\n"
          ]
        },
        {
          "name": "stdout",
          "output_type": "stream",
          "text": [
            "Epoch [4/8], Step [51/63, Valid_Loss: 0.5108]\n",
            "=== Epoch 5: Current LR: 0.001 ===\n"
          ]
        },
        {
          "name": "stderr",
          "output_type": "stream",
          "text": [
            "/Users/sonya/Desktop/CompSci/SENG474/Project/AI_detector/lib/python3.13/site-packages/PIL/Image.py:1043: UserWarning: Palette images with Transparency expressed in bytes should be converted to RGBA images\n",
            "  warnings.warn(\n",
            "/Users/sonya/Desktop/CompSci/SENG474/Project/AI_detector/lib/python3.13/site-packages/PIL/Image.py:1043: UserWarning: Palette images with Transparency expressed in bytes should be converted to RGBA images\n",
            "  warnings.warn(\n",
            "/Users/sonya/Desktop/CompSci/SENG474/Project/AI_detector/lib/python3.13/site-packages/PIL/Image.py:1043: UserWarning: Palette images with Transparency expressed in bytes should be converted to RGBA images\n",
            "  warnings.warn(\n"
          ]
        },
        {
          "name": "stdout",
          "output_type": "stream",
          "text": [
            "Epoch [5/8], Step [50/188, Train_Loss: 0.4749]\n",
            "Epoch [5/8], Step [100/188, Train_Loss: 0.5175]\n"
          ]
        },
        {
          "name": "stderr",
          "output_type": "stream",
          "text": [
            "/Users/sonya/Desktop/CompSci/SENG474/Project/AI_detector/lib/python3.13/site-packages/PIL/Image.py:1043: UserWarning: Palette images with Transparency expressed in bytes should be converted to RGBA images\n",
            "  warnings.warn(\n"
          ]
        },
        {
          "name": "stdout",
          "output_type": "stream",
          "text": [
            "Epoch [5/8], Step [150/188, Train_Loss: 0.4825]\n"
          ]
        },
        {
          "name": "stderr",
          "output_type": "stream",
          "text": [
            "/Users/sonya/Desktop/CompSci/SENG474/Project/AI_detector/lib/python3.13/site-packages/PIL/Image.py:1043: UserWarning: Palette images with Transparency expressed in bytes should be converted to RGBA images\n",
            "  warnings.warn(\n",
            "/Users/sonya/Desktop/CompSci/SENG474/Project/AI_detector/lib/python3.13/site-packages/PIL/Image.py:1043: UserWarning: Palette images with Transparency expressed in bytes should be converted to RGBA images\n",
            "  warnings.warn(\n",
            "/Users/sonya/Desktop/CompSci/SENG474/Project/AI_detector/lib/python3.13/site-packages/PIL/Image.py:1043: UserWarning: Palette images with Transparency expressed in bytes should be converted to RGBA images\n",
            "  warnings.warn(\n"
          ]
        },
        {
          "name": "stdout",
          "output_type": "stream",
          "text": [
            "Epoch [5/8], Step [51/63, Valid_Loss: 0.4914]\n",
            "=== Epoch 6: Current LR: 0.0001 ===\n"
          ]
        },
        {
          "name": "stderr",
          "output_type": "stream",
          "text": [
            "/Users/sonya/Desktop/CompSci/SENG474/Project/AI_detector/lib/python3.13/site-packages/PIL/Image.py:1043: UserWarning: Palette images with Transparency expressed in bytes should be converted to RGBA images\n",
            "  warnings.warn(\n",
            "/Users/sonya/Desktop/CompSci/SENG474/Project/AI_detector/lib/python3.13/site-packages/PIL/Image.py:1043: UserWarning: Palette images with Transparency expressed in bytes should be converted to RGBA images\n",
            "  warnings.warn(\n",
            "/Users/sonya/Desktop/CompSci/SENG474/Project/AI_detector/lib/python3.13/site-packages/PIL/Image.py:1043: UserWarning: Palette images with Transparency expressed in bytes should be converted to RGBA images\n",
            "  warnings.warn(\n"
          ]
        },
        {
          "name": "stdout",
          "output_type": "stream",
          "text": [
            "Epoch [6/8], Step [50/188, Train_Loss: 0.4408]\n"
          ]
        },
        {
          "name": "stderr",
          "output_type": "stream",
          "text": [
            "/Users/sonya/Desktop/CompSci/SENG474/Project/AI_detector/lib/python3.13/site-packages/PIL/Image.py:1043: UserWarning: Palette images with Transparency expressed in bytes should be converted to RGBA images\n",
            "  warnings.warn(\n"
          ]
        },
        {
          "name": "stdout",
          "output_type": "stream",
          "text": [
            "Epoch [6/8], Step [100/188, Train_Loss: 0.4609]\n",
            "Epoch [6/8], Step [150/188, Train_Loss: 0.4882]\n"
          ]
        },
        {
          "name": "stderr",
          "output_type": "stream",
          "text": [
            "/Users/sonya/Desktop/CompSci/SENG474/Project/AI_detector/lib/python3.13/site-packages/PIL/Image.py:1043: UserWarning: Palette images with Transparency expressed in bytes should be converted to RGBA images\n",
            "  warnings.warn(\n",
            "/Users/sonya/Desktop/CompSci/SENG474/Project/AI_detector/lib/python3.13/site-packages/PIL/Image.py:1043: UserWarning: Palette images with Transparency expressed in bytes should be converted to RGBA images\n",
            "  warnings.warn(\n",
            "/Users/sonya/Desktop/CompSci/SENG474/Project/AI_detector/lib/python3.13/site-packages/PIL/Image.py:1043: UserWarning: Palette images with Transparency expressed in bytes should be converted to RGBA images\n",
            "  warnings.warn(\n",
            "/Users/sonya/Desktop/CompSci/SENG474/Project/AI_detector/lib/python3.13/site-packages/PIL/Image.py:1043: UserWarning: Palette images with Transparency expressed in bytes should be converted to RGBA images\n",
            "  warnings.warn(\n"
          ]
        },
        {
          "name": "stdout",
          "output_type": "stream",
          "text": [
            "Epoch [6/8], Step [51/63, Valid_Loss: 0.5199]\n",
            "=== Epoch 7: Current LR: 0.0001 ===\n"
          ]
        },
        {
          "name": "stderr",
          "output_type": "stream",
          "text": [
            "/Users/sonya/Desktop/CompSci/SENG474/Project/AI_detector/lib/python3.13/site-packages/PIL/Image.py:1043: UserWarning: Palette images with Transparency expressed in bytes should be converted to RGBA images\n",
            "  warnings.warn(\n",
            "/Users/sonya/Desktop/CompSci/SENG474/Project/AI_detector/lib/python3.13/site-packages/PIL/Image.py:1043: UserWarning: Palette images with Transparency expressed in bytes should be converted to RGBA images\n",
            "  warnings.warn(\n",
            "/Users/sonya/Desktop/CompSci/SENG474/Project/AI_detector/lib/python3.13/site-packages/PIL/Image.py:1043: UserWarning: Palette images with Transparency expressed in bytes should be converted to RGBA images\n",
            "  warnings.warn(\n"
          ]
        },
        {
          "name": "stdout",
          "output_type": "stream",
          "text": [
            "Epoch [7/8], Step [50/188, Train_Loss: 0.4627]\n"
          ]
        },
        {
          "name": "stderr",
          "output_type": "stream",
          "text": [
            "/Users/sonya/Desktop/CompSci/SENG474/Project/AI_detector/lib/python3.13/site-packages/PIL/Image.py:1043: UserWarning: Palette images with Transparency expressed in bytes should be converted to RGBA images\n",
            "  warnings.warn(\n"
          ]
        },
        {
          "name": "stdout",
          "output_type": "stream",
          "text": [
            "Epoch [7/8], Step [100/188, Train_Loss: 0.4943]\n",
            "Epoch [7/8], Step [150/188, Train_Loss: 0.4035]\n"
          ]
        },
        {
          "name": "stderr",
          "output_type": "stream",
          "text": [
            "/Users/sonya/Desktop/CompSci/SENG474/Project/AI_detector/lib/python3.13/site-packages/PIL/Image.py:1043: UserWarning: Palette images with Transparency expressed in bytes should be converted to RGBA images\n",
            "  warnings.warn(\n",
            "/Users/sonya/Desktop/CompSci/SENG474/Project/AI_detector/lib/python3.13/site-packages/PIL/Image.py:1043: UserWarning: Palette images with Transparency expressed in bytes should be converted to RGBA images\n",
            "  warnings.warn(\n",
            "/Users/sonya/Desktop/CompSci/SENG474/Project/AI_detector/lib/python3.13/site-packages/PIL/Image.py:1043: UserWarning: Palette images with Transparency expressed in bytes should be converted to RGBA images\n",
            "  warnings.warn(\n",
            "/Users/sonya/Desktop/CompSci/SENG474/Project/AI_detector/lib/python3.13/site-packages/PIL/Image.py:1043: UserWarning: Palette images with Transparency expressed in bytes should be converted to RGBA images\n",
            "  warnings.warn(\n"
          ]
        },
        {
          "name": "stdout",
          "output_type": "stream",
          "text": [
            "Epoch [7/8], Step [51/63, Valid_Loss: 0.3798]\n",
            "=== Epoch 8: Current LR: 0.0001 ===\n"
          ]
        },
        {
          "name": "stderr",
          "output_type": "stream",
          "text": [
            "/Users/sonya/Desktop/CompSci/SENG474/Project/AI_detector/lib/python3.13/site-packages/PIL/Image.py:1043: UserWarning: Palette images with Transparency expressed in bytes should be converted to RGBA images\n",
            "  warnings.warn(\n",
            "/Users/sonya/Desktop/CompSci/SENG474/Project/AI_detector/lib/python3.13/site-packages/PIL/Image.py:1043: UserWarning: Palette images with Transparency expressed in bytes should be converted to RGBA images\n",
            "  warnings.warn(\n",
            "/Users/sonya/Desktop/CompSci/SENG474/Project/AI_detector/lib/python3.13/site-packages/PIL/Image.py:1043: UserWarning: Palette images with Transparency expressed in bytes should be converted to RGBA images\n",
            "  warnings.warn(\n",
            "/Users/sonya/Desktop/CompSci/SENG474/Project/AI_detector/lib/python3.13/site-packages/PIL/Image.py:1043: UserWarning: Palette images with Transparency expressed in bytes should be converted to RGBA images\n",
            "  warnings.warn(\n"
          ]
        },
        {
          "name": "stdout",
          "output_type": "stream",
          "text": [
            "Epoch [8/8], Step [50/188, Train_Loss: 0.5253]\n",
            "Epoch [8/8], Step [100/188, Train_Loss: 0.4112]\n",
            "Epoch [8/8], Step [150/188, Train_Loss: 0.4263]\n"
          ]
        },
        {
          "name": "stderr",
          "output_type": "stream",
          "text": [
            "/Users/sonya/Desktop/CompSci/SENG474/Project/AI_detector/lib/python3.13/site-packages/PIL/Image.py:1043: UserWarning: Palette images with Transparency expressed in bytes should be converted to RGBA images\n",
            "  warnings.warn(\n",
            "/Users/sonya/Desktop/CompSci/SENG474/Project/AI_detector/lib/python3.13/site-packages/PIL/Image.py:1043: UserWarning: Palette images with Transparency expressed in bytes should be converted to RGBA images\n",
            "  warnings.warn(\n",
            "/Users/sonya/Desktop/CompSci/SENG474/Project/AI_detector/lib/python3.13/site-packages/PIL/Image.py:1043: UserWarning: Palette images with Transparency expressed in bytes should be converted to RGBA images\n",
            "  warnings.warn(\n",
            "/Users/sonya/Desktop/CompSci/SENG474/Project/AI_detector/lib/python3.13/site-packages/PIL/Image.py:1043: UserWarning: Palette images with Transparency expressed in bytes should be converted to RGBA images\n",
            "  warnings.warn(\n"
          ]
        },
        {
          "name": "stdout",
          "output_type": "stream",
          "text": [
            "Epoch [8/8], Step [51/63, Valid_Loss: 0.5647]\n",
            "Finished Training\n",
            "Total corrupted images skipped: 1\n"
          ]
        }
      ],
      "source": [
        "# Train the model\n",
        "ImageFile.LOAD_TRUNCATED_IMAGES=True\n",
        "\n",
        "model = CNN().to(device)\n",
        "\n",
        "# Define hyper-parameters\n",
        "num_epochs = 16\n",
        "learning_rate = 0.001\n",
        "\n",
        "criterion = nn.CrossEntropyLoss()\n",
        "# optimizer = torch.optim.SGD(model.parameters(), lr=learning_rate, momentum=0.9)\n",
        "# scheduler = optim.lr_scheduler.ReduceLROnPlateau(optimizer, 'min', patience=2, factor=0.1, min_lr=1e-6)     # TODO: SGD or Adam??? comapre training results\n",
        "\n",
        "optimizer = optim.Adam(model.parameters(), lr=learning_rate, weight_decay=1e-4)  # Adam optimizer with weight decay for regularization (lambda=0.00001)\n",
        "scheduler = optim.lr_scheduler.ReduceLROnPlateau(optimizer, 'min', patience=2, factor=0.1, min_lr=1e-6)\n",
        "\n",
        "# storing metrics for all epoches\n",
        "train_losses = []\n",
        "valid_losses = []\n",
        "\n",
        "n_total_training_steps = len(train_loader)\n",
        "training_halfway = n_total_training_steps//2\n",
        "\n",
        "n_total_valid_steps = len(valid_loader)\n",
        "valid_halfway = n_total_valid_steps//2\n",
        "\n",
        "for epoch in range (num_epochs):\n",
        "    model.train()\n",
        "    #storing running total of loss for current epoch\n",
        "    training_running_loss_first = 0.0\n",
        "    training_running_loss_second = 0.0\n",
        "\n",
        "    valid_running_loss_first = 0.0\n",
        "    valid_running_loss_second = 0.0\n",
        "\n",
        "    current_lr = optimizer.param_groups[0]['lr']\n",
        "    print(f'=== Epoch {epoch+1}: Current LR: {current_lr} ===')\n",
        "\n",
        "    corrupted = 0\n",
        "\n",
        "    i = 0\n",
        "    train_loader_iter = iter(train_loader)\n",
        "    while True:\n",
        "        try:\n",
        "            batch = next(train_loader_iter)\n",
        "            images, labels = batch\n",
        "            images = images.to(device)\n",
        "            labels = labels.to(device)\n",
        "\n",
        "            # Forward propagation\n",
        "            outputs = model(images) # predictions\n",
        "            train_loss = criterion(outputs, labels)\n",
        "\n",
        "            # Backward propagation and optimization\n",
        "            optimizer.zero_grad()\n",
        "            train_loss.backward()\n",
        "            optimizer.step()        # applied every batch\n",
        "\n",
        "            i += 1 \n",
        "        except StopIteration:\n",
        "            break  # End of DataLoader\n",
        "        except OSError:\n",
        "            corrupted += 1\n",
        "            i += 1 \n",
        "            continue\n",
        "\n",
        "        if i < training_halfway:\n",
        "            training_running_loss_first += train_loss.item()\n",
        "        else:\n",
        "            training_running_loss_second += train_loss.item()\n",
        "\n",
        "\n",
        "        # print out our model's performance every 50 iterations\n",
        "        if (i+1) % 50 == 0:\n",
        "            print(f'Epoch [{epoch+1}/{num_epochs}], Step [{i+1}/{n_total_training_steps}, Train_Loss: {train_loss.item():.4f}]')\n",
        "\n",
        "    \n",
        "    scheduler.step(train_loss) # applied every epoch\n",
        "\n",
        "    # store average loss for this epoch\n",
        "    train_losses.append(training_running_loss_first / training_halfway)\n",
        "    train_losses.append(training_running_loss_second / (n_total_training_steps - training_halfway))\n",
        "\n",
        "\n",
        "    model.eval()\n",
        "    i = 0\n",
        "    valid_loader_iter = iter(valid_loader)\n",
        "    with torch.no_grad():\n",
        "\n",
        "        while True:\n",
        "            try:\n",
        "                batch = next(valid_loader_iter)\n",
        "                images, labels = batch\n",
        "                images = images.to(device)\n",
        "                labels = labels.to(device)\n",
        "\n",
        "                # Forward propagation\n",
        "                outputs = model(images)\n",
        "                valid_loss = criterion(outputs, labels)\n",
        "                i += 1 \n",
        "            except StopIteration:\n",
        "                break  # End of DataLoader\n",
        "            except OSError:\n",
        "                corrupted += 1\n",
        "                i += 1 \n",
        "                continue\n",
        "\n",
        "            if i < valid_halfway:\n",
        "                valid_running_loss_first += valid_loss.item()\n",
        "            else:\n",
        "                valid_running_loss_second += valid_loss.item()\n",
        "\n",
        "\n",
        "            # print out our model's performance every 50 iterations\n",
        "            if i == 50:\n",
        "                print(f'Epoch [{epoch+1}/{num_epochs}], Step [{i+1}/{n_total_valid_steps}, Valid_Loss: {valid_loss.item():.4f}]')\n",
        "\n",
        "        valid_losses.append(valid_running_loss_first / valid_halfway)\n",
        "        valid_losses.append(valid_running_loss_second / (n_total_valid_steps - valid_halfway))\n",
        "\n",
        "\n",
        "print('Finished Training')\n",
        "print(\"Total corrupted images skipped:\", corrupted)\n",
        "\n",
        "path = 'models/model2.pt' \n",
        "def save_model(model, path):\n",
        "  torch.save(model.state_dict(), path)  # saves model to a file\n",
        "\n",
        "# save_model(model, path)"
      ]
    },
    {
      "cell_type": "code",
      "execution_count": null,
      "metadata": {
        "colab": {
          "background_save": true
        },
        "id": "yhkr_69gjRSu",
        "outputId": "ebd706d7-24e7-4b87-c25c-447102f8e48d"
      },
      "outputs": [
        {
          "name": "stderr",
          "output_type": "stream",
          "text": [
            "/Users/sonya/Desktop/CompSci/SENG474/Project/AI_detector/lib/python3.13/site-packages/PIL/Image.py:1043: UserWarning: Palette images with Transparency expressed in bytes should be converted to RGBA images\n",
            "  warnings.warn(\n",
            "/Users/sonya/Desktop/CompSci/SENG474/Project/AI_detector/lib/python3.13/site-packages/PIL/Image.py:1043: UserWarning: Palette images with Transparency expressed in bytes should be converted to RGBA images\n",
            "  warnings.warn(\n",
            "/Users/sonya/Desktop/CompSci/SENG474/Project/AI_detector/lib/python3.13/site-packages/PIL/Image.py:1043: UserWarning: Palette images with Transparency expressed in bytes should be converted to RGBA images\n",
            "  warnings.warn(\n",
            "/Users/sonya/Desktop/CompSci/SENG474/Project/AI_detector/lib/python3.13/site-packages/PIL/Image.py:1043: UserWarning: Palette images with Transparency expressed in bytes should be converted to RGBA images\n",
            "  warnings.warn(\n"
          ]
        },
        {
          "name": "stdout",
          "output_type": "stream",
          "text": [
            "Accuracy of predicting AI: 75.6098 %\n",
            "Total corrupted images skipped: 3\n"
          ]
        }
      ],
      "source": [
        "# Test the model\n",
        "\n",
        "# Call this function in case you want to use an older model\n",
        "def load_model(path):\n",
        "      model = CNN()                      # create empty model\n",
        "      model.load_state_dict(torch.load(path))      # load a static dict with trained parameters from file to the model\n",
        "      model.eval()                                # set model to evaluation mode (was previously incorrectly set to train)\n",
        "      return model\n",
        "\n",
        "model.eval()  # might wanna do this to set model to evaluation mode -Jasmine\n",
        "with torch.no_grad():\n",
        "    all_pred_labels = []\n",
        "    all_labels = []\n",
        "\n",
        "    TP = 0\n",
        "    m_samples = 0\n",
        "\n",
        "    test_loader_iter = iter(test_loader)\n",
        "    i = 0\n",
        "    while True:\n",
        "        try:\n",
        "            batch = next(test_loader_iter)\n",
        "            images, labels = batch\n",
        "            images = images.to(device)\n",
        "            labels = labels.to(device)\n",
        "            \n",
        "            outputs = model(images)\n",
        "            _, predicted = torch.max(outputs, 1) # max() returns (value, index)\n",
        "            m_samples += labels.size(0)\n",
        "                \n",
        "            i += 1 \n",
        "        except StopIteration:\n",
        "            break  \n",
        "        except OSError:\n",
        "            corrupted += 1\n",
        "            i += 1 \n",
        "            continue\n",
        "\n",
        "        TP += (predicted == labels).sum().item()\n",
        "\n",
        "        # convert predicted and actual labels into numpy and add to lists\n",
        "        all_pred_labels.extend(predicted.cpu().numpy())\n",
        "        all_labels.extend(labels.cpu().numpy())\n",
        "        \n",
        "    # for evaluation we can only print accuracy since we have a perfectly balanced set\n",
        "    acc = 100.0 * TP / m_samples\n",
        "    print(f'Accuracy of predicting AI: {acc:.4f} %')\n",
        "    print(\"Total corrupted images skipped:\", corrupted)\n"
      ]
    },
    {
      "cell_type": "code",
      "execution_count": null,
      "metadata": {
        "colab": {
          "background_save": true
        },
        "id": "Lg5cNdsFjRKi",
        "outputId": "ec842cb3-89bd-46e8-cc07-e7463801bd21"
      },
      "outputs": [
        {
          "name": "stdout",
          "output_type": "stream",
          "text": [
            "Accuracy: 75.53%\n",
            "Precision: 75.05%\n",
            "Recall: 76.61%\n",
            "F1 Score: 75.82%\n"
          ]
        },
        {
          "data": {
            "image/png": "[encoded data removed]",
            "text/plain": [
              "<Figure size 600x400 with 1 Axes>"
            ]
          },
          "metadata": {},
          "output_type": "display_data"
        },
        {
          "data": {
            "image/png": "[encoded data removed]",
            "text/plain": [
              "<Figure size 800x600 with 1 Axes>"
            ]
          },
          "metadata": {},
          "output_type": "display_data"
        },
        {
          "data": {
            "image/png": "[encoded data removed]",
            "text/plain": [
              "<Figure size 800x600 with 1 Axes>"
            ]
          },
          "metadata": {},
          "output_type": "display_data"
        },
        {
          "data": {
            "image/png": "[encoded data removed]",
            "text/plain": [
              "<Figure size 600x500 with 2 Axes>"
            ]
          },
          "metadata": {},
          "output_type": "display_data"
        }
      ],
      "source": [
        "# compute accuracy, precision, recall, and f1\n",
        "accuracy = 100.0 * np.mean(np.array(all_pred_labels) == np.array(all_labels))\n",
        "precision = 100.0 * precision_score(all_labels, all_pred_labels, zero_division=0)\n",
        "recall = 100.0 * recall_score(all_labels, all_pred_labels, zero_division=0)\n",
        "f1 = 100.0 * f1_score(all_labels, all_pred_labels, zero_division=0)\n",
        "\n",
        "# print metrics first\n",
        "print(f\"Accuracy: {accuracy:.2f}%\")\n",
        "print(f\"Precision: {precision:.2f}%\")\n",
        "print(f\"Recall: {recall:.2f}%\")\n",
        "print(f\"F1 Score: {f1:.2f}%\")\n",
        "\n",
        "# bar chart for test metrics\n",
        "plt.figure(figsize=(6, 4))\n",
        "metrics = [accuracy, precision, recall, f1]\n",
        "labels = ['Accuracy', 'Precision', 'Recall', 'F1 Score']\n",
        "plt.bar(labels, metrics, color=['blue', 'red', 'green', 'purple'])\n",
        "plt.title('Test Performance Metrics')\n",
        "plt.ylabel('Percentage')\n",
        "plt.ylim(0, 100)\n",
        "plt.grid(axis='y')\n",
        "plt.show()\n",
        "\n",
        "# plot loss vs epochs\n",
        "plt.figure(figsize=(8, 6))\n",
        "x_vals = [i / 2 for i in range(1, len(train_losses) + 1)]\n",
        "plt.plot(x_vals, train_losses, label='Training Loss (1st and 2nd Half per Epoch)', color='blue')\n",
        "plt.title('Training Loss over Epochs')\n",
        "plt.xlabel('Epoch')\n",
        "plt.ylabel('Loss')\n",
        "plt.grid(True)\n",
        "plt.legend()\n",
        "plt.tight_layout()\n",
        "plt.show()\n",
        "\n",
        "# plot loss vs epochs\n",
        "\n",
        "def moving_average(data, window_size=3):\n",
        "    return [sum(data[max(0, i-window_size+1):i+1]) / (i - max(0, i-window_size+1) + 1) for i in range(len(data))]\n",
        "\n",
        "window = 5  # try 5 or 7 for smoother curve, play with this!\n",
        "smooth_train = moving_average(train_losses, window)\n",
        "smooth_valid = moving_average(valid_losses, window)\n",
        "\n",
        "plt.figure(figsize=(8, 6))\n",
        "x_vals = [i / 2 for i in range(1, len(train_losses) + 1)]\n",
        "plt.plot(x_vals, smooth_train, label='Training Loss (smoothed)', color='blue')\n",
        "plt.plot(x_vals, smooth_valid, label='Validation Loss (smoothed)', color='red')\n",
        "plt.title('Smoothed Training vs Validation Loss')\n",
        "plt.xlabel('Epoch')\n",
        "plt.ylabel('Loss')\n",
        "plt.grid(True)\n",
        "plt.legend()\n",
        "plt.tight_layout()\n",
        "plt.show()\n",
        "\n",
        "# plot confusion matrix\n",
        "cm = confusion_matrix(all_labels, all_pred_labels)\n",
        "plt.figure(figsize=(6, 5))\n",
        "sns.heatmap(cm, annot=True, fmt='d', cmap='Blues',\n",
        "            xticklabels=['AI', 'Human'], yticklabels=['AI', 'Human'])\n",
        "plt.xlabel('Predicted Label')\n",
        "plt.ylabel('True Label')\n",
        "plt.title('Confusion Matrix')\n",
        "plt.tight_layout()\n",
        "plt.show()"
      ]
    }
  ],
  "metadata": {
    "colab": {
      "provenance": []
    },
    "kernelspec": {
      "display_name": "venv",
      "language": "python",
      "name": "python3"
    },
    "language_info": {
      "codemirror_mode": {
        "name": "ipython",
        "version": 3
      },
      "file_extension": ".py",
      "mimetype": "text/x-python",
      "name": "python",
      "nbconvert_exporter": "python",
      "pygments_lexer": "ipython3",
      "version": "3.11.4"
    }
  },
  "nbformat": 4,
  "nbformat_minor": 0
}
